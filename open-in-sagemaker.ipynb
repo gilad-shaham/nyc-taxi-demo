{
 "cells": [
  {
   "cell_type": "markdown",
   "id": "94e6a8e0-c570-4d31-b955-e28f4441bfbc",
   "metadata": {},
   "source": [
    "# Running inside sagemaker\n",
    "\n",
    "This project is designed to open and run inside Sagemaker Studio. Use the following commands to setup and initialize the project.\n",
    "​\n",
    "Execute the following line to generate `mlrun` conda environment with the project requirements and settings (run this only once per environment):"
   ]
  },
  {
   "cell_type": "code",
   "execution_count": null,
   "id": "0e974a59-de7b-41b5-8766-4daf6174a047",
   "metadata": {
    "tags": []
   },
   "outputs": [],
   "source": [
    "!make conda-env"
   ]
  },
  {
   "cell_type": "markdown",
   "id": "bd0feb7c-ad1c-42b3-9655-99bde3eca230",
   "metadata": {},
   "source": [
    "> ALL the notebooks should be started in the `mlrun` conda/python environment !\n",
    "\n",
    "You can use a remote MLRun cluster (over Kubernetes), or a minimal local installation. To start the local MLRun open a terminal window (click `+`) and run the following line in the terminal:\n",
    "\n",
    "    conda activate mlrun && make mlrun-api\n",
    "\n",
    "Run this **EVERYTIME** your Sagemaker runtime is started.  \n",
    "\n",
    "> Note: You can also use a remote MLRun service (over Kubernetes), instead of starting a local mlrun, \n",
    "> edit and save the [mlrun.env](./mlrun.env) and specify its address and credentials  \n"
   ]
  },
  {
   "cell_type": "markdown",
   "id": "5c28d3b7-9ee1-4e86-9635-b5f2c96f6601",
   "metadata": {},
   "source": [
    "Now that the environment is up and running open and run the different notebooks:\n",
    "\n",
    "- [**Exploratory data analysis (EDA) and modeling**](./00-exploratory-data-analysis.ipynb).\n",
    "- [**Data and model pipeline development**](./01-dataprep-train-test.ipynb) (data preparation, training, evaluation and so on).\n",
    "- [**Application & serving pipeline development**](./02-serving-pipeline.ipynb) (intercept requests, process data, inference and so on).\n",
    "- [**Scaling and automation**](./03-automation-monitoring.ipynb) (run at scale, hyper-parameter tuning, monitoring, pipeline automation and so on)."
   ]
  }
 ],
 "metadata": {
  "kernelspec": {
   "display_name": "default:Python",
   "language": "python",
   "name": "conda-env-default-py"
  },
  "language_info": {
   "codemirror_mode": {
    "name": "ipython",
    "version": 3
   },
   "file_extension": ".py",
   "mimetype": "text/x-python",
   "name": "python",
   "nbconvert_exporter": "python",
   "pygments_lexer": "ipython3",
   "version": "3.9.13"
  }
 },
 "nbformat": 4,
 "nbformat_minor": 5
}
